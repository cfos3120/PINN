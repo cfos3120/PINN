{
 "cells": [
  {
   "cell_type": "markdown",
   "metadata": {},
   "source": [
    "Import Packages"
   ]
  },
  {
   "cell_type": "code",
   "execution_count": 1,
   "metadata": {},
   "outputs": [],
   "source": [
    "import numpy as np\n",
    "import torch\n",
    "from torch.autograd import grad\n",
    "import torch.nn as nn\n",
    "import matplotlib.pyplot as plt\n",
    "\n",
    "import shutil\n",
    "import argparse\n",
    "\n",
    "from models.mlp_direct import *\n",
    "from utils.pde_loss_functions import *\n",
    "from utils.cavity_dataset import *"
   ]
  },
  {
   "cell_type": "markdown",
   "metadata": {},
   "source": [
    "Create Dataset"
   ]
  },
  {
   "cell_type": "code",
   "execution_count": 2,
   "metadata": {},
   "outputs": [],
   "source": [
    "# Dataset:\n",
    "dataset_args = dict()\n",
    "dataset_args['x_min'] = 0.0\n",
    "dataset_args['x_max'] = 1.0\n",
    "dataset_args['y_min'] = 0.0\n",
    "dataset_args['y_max'] = 1.0\n",
    "\n",
    "ub = np.array([dataset_args['x_max'], dataset_args['y_max']])\n",
    "lb = np.array([dataset_args['x_min'], dataset_args['y_min']])   \n",
    "\n",
    "dataset_args['ub'] = ub\n",
    "dataset_args['lb'] = lb\n",
    "\n",
    "dataset_args['N_b'] = 200       # inlet & outlet\n",
    "dataset_args['N_w'] = 400       # wall\n",
    "dataset_args['N_s'] = 200       # surface\n",
    "dataset_args['N_c'] = 40000     # collocation\n",
    "dataset_args['N_r'] = 10000\n",
    "\n",
    "# Dataset\n",
    "xy_col, xy_bnd, uv_bnd = getData_cavity(dataset_args)"
   ]
  },
  {
   "cell_type": "markdown",
   "metadata": {},
   "source": [
    "Create MLP Model"
   ]
  },
  {
   "cell_type": "code",
   "execution_count": 3,
   "metadata": {},
   "outputs": [],
   "source": [
    "# Model\n",
    "pinn_model = MLP_cavity(ub=dataset_args['ub'], lb=dataset_args['lb'])"
   ]
  },
  {
   "cell_type": "markdown",
   "metadata": {},
   "source": [
    "Run 1 Closure Step:\n",
    "- Auto-grad loss for collocation points\n",
    "- Point-wise loss for boundary conditions\n",
    "- Backwards pass combination of losses"
   ]
  },
  {
   "cell_type": "code",
   "execution_count": 4,
   "metadata": {},
   "outputs": [
    {
     "name": "stdout",
     "output_type": "stream",
     "text": [
      "1 Loss: 2.40481e-01 BC: 1.897e-01 pde: 5.081e-02"
     ]
    },
    {
     "data": {
      "text/plain": [
       "tensor(0.2405, grad_fn=<AddBackward0>)"
      ]
     },
     "execution_count": 4,
     "metadata": {},
     "output_type": "execute_result"
    }
   ],
   "source": [
    "pinn_model.closure(xy_bnd=xy_bnd, xy_col=xy_col, uv_bnd=uv_bnd)"
   ]
  },
  {
   "cell_type": "code",
   "execution_count": null,
   "metadata": {},
   "outputs": [],
   "source": [
    "from models.gnot_custom import *\n"
   ]
  }
 ],
 "metadata": {
  "kernelspec": {
   "display_name": "Python 3",
   "language": "python",
   "name": "python3"
  },
  "language_info": {
   "codemirror_mode": {
    "name": "ipython",
    "version": 3
   },
   "file_extension": ".py",
   "mimetype": "text/x-python",
   "name": "python",
   "nbconvert_exporter": "python",
   "pygments_lexer": "ipython3",
   "version": "3.8.5"
  }
 },
 "nbformat": 4,
 "nbformat_minor": 2
}
